{
 "cells": [
  {
   "cell_type": "code",
   "execution_count": 178,
   "id": "83c86bef",
   "metadata": {},
   "outputs": [],
   "source": [
    "import pandas as pd\n",
    "import numpy as np\n",
    "from sklearn.model_selection import train_test_split\n",
    "from keras.models import Sequential\n",
    "from keras.layers import Dense, Dropout\n",
    "from bs4 import BeautifulSoup\n",
    "import requests"
   ]
  },
  {
   "cell_type": "code",
   "execution_count": 179,
   "id": "27d4916c",
   "metadata": {},
   "outputs": [],
   "source": [
    "def converting_dist(mph):\n",
    "    return 1.609344*mph"
   ]
  },
  {
   "cell_type": "code",
   "execution_count": 180,
   "id": "4da331c3",
   "metadata": {},
   "outputs": [],
   "source": [
    "# copy/paste the definition of the function 'get_regression_coeff' from lab-p13 here\n",
    "def get_regression_coeff(df, x, y):\n",
    "    df[\"1\"] = 1\n",
    "    res = np.linalg.lstsq(df[[x, \"1\"]], df[y], rcond=None)\n",
    "    coefficients = res[0]\n",
    "    m = coefficients[0]\n",
    "    b = coefficients[1]\n",
    "    return (m, b)"
   ]
  },
  {
   "cell_type": "code",
   "execution_count": 181,
   "id": "c96d7f18",
   "metadata": {},
   "outputs": [],
   "source": [
    "def regression_line_plot(df, x, y):\n",
    "    reg_tup=get_regression_coeff(df,x,y)\n",
    "    m,b=reg_tup[0],reg_tup[1]\n",
    "    ax=df.plot.scatter(x,y,color='k')\n",
    "    df['fit'] = m * df[x] + b\n",
    "    df.plot.line(x,'fit',ax=ax,color='r')\n",
    "    ax.set_xlim(0,24)\n",
    "    ax.set_ylim(20,50)"
   ]
  },
  {
   "cell_type": "code",
   "execution_count": 182,
   "id": "5a01c0cc",
   "metadata": {},
   "outputs": [],
   "source": [
    "# Load the dataset\n",
    "data = pd.read_csv('Berlin_Traffic_Data.csv')"
   ]
  },
  {
   "cell_type": "code",
   "execution_count": 183,
   "id": "1f2c9ea7",
   "metadata": {},
   "outputs": [],
   "source": [
    "data = data[0:10001]"
   ]
  },
  {
   "cell_type": "code",
   "execution_count": 184,
   "id": "a8b5803e",
   "metadata": {
    "scrolled": true
   },
   "outputs": [
    {
     "name": "stdout",
     "output_type": "stream",
     "text": [
      "Epoch 1/50\n",
      "50/50 [==============================] - 1s 6ms/step - loss: 1322.5590 - mae: 31.7388 - val_loss: 568.6297 - val_mae: 18.1613\n",
      "Epoch 2/50\n",
      "50/50 [==============================] - 0s 3ms/step - loss: 507.8639 - mae: 17.7471 - val_loss: 435.2101 - val_mae: 16.1164\n",
      "Epoch 3/50\n",
      "50/50 [==============================] - 0s 3ms/step - loss: 450.1906 - mae: 16.5242 - val_loss: 365.6991 - val_mae: 14.4795\n",
      "Epoch 4/50\n",
      "50/50 [==============================] - 0s 3ms/step - loss: 371.8555 - mae: 14.8187 - val_loss: 291.4526 - val_mae: 12.6227\n",
      "Epoch 5/50\n",
      "50/50 [==============================] - 0s 3ms/step - loss: 319.3079 - mae: 13.5268 - val_loss: 258.4670 - val_mae: 11.9130\n",
      "Epoch 6/50\n",
      "50/50 [==============================] - 0s 3ms/step - loss: 301.6350 - mae: 13.0921 - val_loss: 250.3948 - val_mae: 11.2164\n",
      "Epoch 7/50\n",
      "50/50 [==============================] - 0s 3ms/step - loss: 298.3023 - mae: 12.9155 - val_loss: 242.3577 - val_mae: 11.1336\n",
      "Epoch 8/50\n",
      "50/50 [==============================] - 0s 3ms/step - loss: 287.2947 - mae: 12.7138 - val_loss: 242.0624 - val_mae: 11.0526\n",
      "Epoch 9/50\n",
      "50/50 [==============================] - 0s 3ms/step - loss: 287.9315 - mae: 12.7580 - val_loss: 241.6911 - val_mae: 11.0226\n",
      "Epoch 10/50\n",
      "50/50 [==============================] - 0s 3ms/step - loss: 290.9430 - mae: 12.7792 - val_loss: 241.2123 - val_mae: 11.0346\n",
      "Epoch 11/50\n",
      "50/50 [==============================] - 0s 3ms/step - loss: 282.1864 - mae: 12.6052 - val_loss: 241.5870 - val_mae: 11.0116\n",
      "Epoch 12/50\n",
      "50/50 [==============================] - 0s 3ms/step - loss: 282.3645 - mae: 12.6079 - val_loss: 242.5181 - val_mae: 11.0071\n",
      "Epoch 13/50\n",
      "50/50 [==============================] - 0s 3ms/step - loss: 280.0656 - mae: 12.4609 - val_loss: 241.2488 - val_mae: 11.0865\n",
      "Epoch 14/50\n",
      "50/50 [==============================] - 0s 3ms/step - loss: 281.8670 - mae: 12.5627 - val_loss: 242.6920 - val_mae: 11.0007\n",
      "Epoch 15/50\n",
      "50/50 [==============================] - 0s 3ms/step - loss: 278.8177 - mae: 12.4505 - val_loss: 243.1485 - val_mae: 11.0211\n",
      "Epoch 16/50\n",
      "50/50 [==============================] - 0s 3ms/step - loss: 273.4118 - mae: 12.3332 - val_loss: 241.8452 - val_mae: 11.0262\n",
      "Epoch 17/50\n",
      "50/50 [==============================] - 0s 3ms/step - loss: 282.2743 - mae: 12.5578 - val_loss: 242.3213 - val_mae: 11.0103\n",
      "Epoch 18/50\n",
      "50/50 [==============================] - 0s 3ms/step - loss: 276.9250 - mae: 12.3927 - val_loss: 242.7541 - val_mae: 10.9912\n",
      "Epoch 19/50\n",
      "50/50 [==============================] - 0s 3ms/step - loss: 276.0983 - mae: 12.3964 - val_loss: 243.8246 - val_mae: 10.9856\n",
      "Epoch 20/50\n",
      "50/50 [==============================] - 0s 3ms/step - loss: 278.1417 - mae: 12.5086 - val_loss: 242.6954 - val_mae: 10.9918\n",
      "Epoch 21/50\n",
      "50/50 [==============================] - 0s 3ms/step - loss: 280.2937 - mae: 12.5208 - val_loss: 245.5379 - val_mae: 10.9743\n",
      "Epoch 22/50\n",
      "50/50 [==============================] - 0s 3ms/step - loss: 278.2842 - mae: 12.4722 - val_loss: 242.5345 - val_mae: 11.0245\n",
      "Epoch 23/50\n",
      "50/50 [==============================] - 0s 3ms/step - loss: 276.4594 - mae: 12.3582 - val_loss: 241.4794 - val_mae: 11.0707\n",
      "Epoch 24/50\n",
      "50/50 [==============================] - 0s 3ms/step - loss: 278.5356 - mae: 12.4640 - val_loss: 241.0860 - val_mae: 11.1358\n",
      "Epoch 25/50\n",
      "50/50 [==============================] - 0s 3ms/step - loss: 276.3919 - mae: 12.4126 - val_loss: 243.2424 - val_mae: 10.9834\n",
      "Epoch 26/50\n",
      "50/50 [==============================] - 0s 3ms/step - loss: 274.2805 - mae: 12.3535 - val_loss: 247.9819 - val_mae: 10.9655\n",
      "Epoch 27/50\n",
      "50/50 [==============================] - 0s 3ms/step - loss: 276.1523 - mae: 12.3911 - val_loss: 250.1320 - val_mae: 11.0010\n",
      "Epoch 28/50\n",
      "50/50 [==============================] - 0s 3ms/step - loss: 274.6888 - mae: 12.3510 - val_loss: 245.2657 - val_mae: 10.9612\n",
      "Epoch 29/50\n",
      "50/50 [==============================] - 0s 3ms/step - loss: 276.3396 - mae: 12.3282 - val_loss: 241.6912 - val_mae: 11.0939\n",
      "Epoch 30/50\n",
      "50/50 [==============================] - 0s 3ms/step - loss: 271.1377 - mae: 12.2125 - val_loss: 250.6412 - val_mae: 11.0128\n",
      "Epoch 31/50\n",
      "50/50 [==============================] - 0s 3ms/step - loss: 273.5871 - mae: 12.2546 - val_loss: 251.3055 - val_mae: 11.0186\n",
      "Epoch 32/50\n",
      "50/50 [==============================] - 0s 3ms/step - loss: 269.1685 - mae: 12.1956 - val_loss: 246.4331 - val_mae: 10.9923\n",
      "Epoch 33/50\n",
      "50/50 [==============================] - 0s 3ms/step - loss: 271.7012 - mae: 12.1862 - val_loss: 241.4296 - val_mae: 11.2134\n",
      "Epoch 34/50\n",
      "50/50 [==============================] - 0s 3ms/step - loss: 274.1375 - mae: 12.3763 - val_loss: 256.2932 - val_mae: 11.0679\n",
      "Epoch 35/50\n",
      "50/50 [==============================] - 0s 3ms/step - loss: 271.9496 - mae: 12.2499 - val_loss: 248.5097 - val_mae: 10.9687\n",
      "Epoch 36/50\n",
      "50/50 [==============================] - 0s 3ms/step - loss: 273.0722 - mae: 12.2840 - val_loss: 243.5995 - val_mae: 11.0112\n",
      "Epoch 37/50\n",
      "50/50 [==============================] - 0s 3ms/step - loss: 272.9421 - mae: 12.3012 - val_loss: 253.7824 - val_mae: 11.0463\n",
      "Epoch 38/50\n",
      "50/50 [==============================] - 0s 3ms/step - loss: 271.0521 - mae: 12.2262 - val_loss: 245.5991 - val_mae: 10.9758\n",
      "Epoch 39/50\n",
      "50/50 [==============================] - 0s 3ms/step - loss: 270.1714 - mae: 12.2207 - val_loss: 241.2723 - val_mae: 11.0802\n",
      "Epoch 40/50\n",
      "50/50 [==============================] - 0s 3ms/step - loss: 269.7306 - mae: 12.2186 - val_loss: 249.8397 - val_mae: 10.9838\n",
      "Epoch 41/50\n",
      "50/50 [==============================] - 0s 3ms/step - loss: 269.6705 - mae: 12.2011 - val_loss: 247.3348 - val_mae: 10.9694\n",
      "Epoch 42/50\n",
      "50/50 [==============================] - 0s 3ms/step - loss: 271.8530 - mae: 12.2709 - val_loss: 254.6426 - val_mae: 11.0376\n",
      "Epoch 43/50\n",
      "50/50 [==============================] - 0s 3ms/step - loss: 265.6053 - mae: 12.0147 - val_loss: 251.0091 - val_mae: 11.0083\n",
      "Epoch 44/50\n",
      "50/50 [==============================] - 0s 3ms/step - loss: 265.7242 - mae: 12.0965 - val_loss: 243.1994 - val_mae: 11.0493\n",
      "Epoch 45/50\n",
      "50/50 [==============================] - 0s 3ms/step - loss: 265.4432 - mae: 12.1183 - val_loss: 249.2891 - val_mae: 10.9599\n",
      "Epoch 46/50\n",
      "50/50 [==============================] - 0s 3ms/step - loss: 268.3534 - mae: 12.2171 - val_loss: 252.9094 - val_mae: 11.0599\n",
      "Epoch 47/50\n",
      "50/50 [==============================] - 0s 3ms/step - loss: 267.3530 - mae: 12.1791 - val_loss: 249.4277 - val_mae: 10.9755\n",
      "Epoch 48/50\n",
      "50/50 [==============================] - 0s 3ms/step - loss: 263.6698 - mae: 12.0976 - val_loss: 248.0033 - val_mae: 10.9722\n",
      "Epoch 49/50\n",
      "50/50 [==============================] - 0s 3ms/step - loss: 266.4126 - mae: 12.1249 - val_loss: 254.0002 - val_mae: 11.0510\n",
      "Epoch 50/50\n",
      "50/50 [==============================] - 0s 3ms/step - loss: 263.7705 - mae: 12.0664 - val_loss: 247.5709 - val_mae: 10.9785\n",
      "63/63 [==============================] - 0s 1ms/step\n",
      "Mean Squared Error: 235.0840606689453\n",
      "Mean Absolute Error: 10.826864242553711\n"
     ]
    }
   ],
   "source": [
    "# Split the dataset into features and target variable\n",
    "X = data[['hour','day','month']].values.astype(float)\n",
    "y = data[['speed_kph_mean']].values.astype(float)\n",
    "\n",
    "# Split the dataset into training, validation, and test sets\n",
    "X_train, X_test, y_train, y_test = train_test_split(X, y, test_size=0.2, random_state=42)\n",
    "X_train, X_val, y_train, y_val = train_test_split(X_train, y_train, test_size=0.2, random_state=42)\n",
    "\n",
    "# Define the neural network model\n",
    "model = Sequential()\n",
    "model.add(Dense(32, input_shape=(3,), activation='relu'))\n",
    "model.add(Dropout(0.2))\n",
    "model.add(Dense(64, activation='relu'))\n",
    "model.add(Dropout(0.2))\n",
    "model.add(Dense(1, activation='linear'))\n",
    "\n",
    "# Compile the model\n",
    "model.compile(loss='mse', optimizer='adam', metrics=['mae'])\n",
    "\n",
    "# Train the model\n",
    "history = model.fit(X_train, y_train, epochs=50, batch_size=128, validation_data=(X_val, y_val))\n",
    "\n",
    "# Evaluate the model on the test set\n",
    "mse, mae = model.evaluate(X_test, y_test, verbose=0)\n",
    "\n",
    "# Make predictions using the trained model\n",
    "y_pred = model.predict(X_test)\n",
    "\n",
    "# Print the model's performance metrics\n",
    "print('Mean Squared Error:', mse)\n",
    "print('Mean Absolute Error:', mae)"
   ]
  },
  {
   "cell_type": "code",
   "execution_count": 185,
   "id": "cc57ffb2",
   "metadata": {},
   "outputs": [],
   "source": [
    "spd_prd = y_pred.tolist()\n",
    "congestion_threshold = converting_dist(30)"
   ]
  },
  {
   "cell_type": "code",
   "execution_count": 186,
   "id": "05fc10f6",
   "metadata": {},
   "outputs": [],
   "source": [
    "test_var=[]\n",
    "for ele in spd_prd:\n",
    "    test_var.append(X_test[ele[0]< congestion_threshold].tolist())\n",
    "test_var=test_var[0][0]"
   ]
  },
  {
   "cell_type": "code",
   "execution_count": 187,
   "id": "095d8154",
   "metadata": {
    "scrolled": true
   },
   "outputs": [
    {
     "data": {
      "text/plain": [
       "2001"
      ]
     },
     "execution_count": 187,
     "metadata": {},
     "output_type": "execute_result"
    }
   ],
   "source": [
    "speed_list=y_pred.tolist()\n",
    "speed_df_list=[]\n",
    "for ele in speed_list:\n",
    "    speed_df_list.append(ele[0])\n",
    "len(speed_list)"
   ]
  },
  {
   "cell_type": "code",
   "execution_count": 188,
   "id": "3e01a762",
   "metadata": {},
   "outputs": [
    {
     "name": "stdout",
     "output_type": "stream",
     "text": [
      "63/63 [==============================] - 0s 1ms/step\n"
     ]
    }
   ],
   "source": [
    "y_pred = model.predict(X_test)\n",
    "\n",
    "# Print the congested segments\n",
    "#print('The following segments are predicted to be congested:')\n",
    "#print(congested_segments)\n",
    "tot=[]\n",
    "for ele in test_var:\n",
    "    temp_dict={}\n",
    "    temp_dict[\"Hour\"]= ele[0]\n",
    "    temp_dict[\"Month\"]= ele[1]\n",
    "    temp_dict[\"Day\"]= ele[2]\n",
    "    tot.append(temp_dict)"
   ]
  },
  {
   "cell_type": "code",
   "execution_count": 189,
   "id": "9237a5ed",
   "metadata": {},
   "outputs": [],
   "source": [
    "tot_df = pd.DataFrame(tot)\n",
    "tot_df['Avg_Speed']=speed_df_list"
   ]
  },
  {
   "cell_type": "code",
   "execution_count": 190,
   "id": "40dc8c13",
   "metadata": {},
   "outputs": [
    {
     "data": {
      "image/png": "[encoded data removed]",
      "text/plain": [
       "<Figure size 432x288 with 1 Axes>"
      ]
     },
     "metadata": {
      "needs_background": "light"
     },
     "output_type": "display_data"
    }
   ],
   "source": [
    "regression_line_plot(tot_df, 'Hour', 'Avg_Speed')"
   ]
  },
  {
   "cell_type": "code",
   "execution_count": 191,
   "id": "00a3021c",
   "metadata": {},
   "outputs": [
    {
     "data": {
      "text/plain": [
       "(-0.3415611644789435, 44.47946779921483)"
      ]
     },
     "execution_count": 191,
     "metadata": {},
     "output_type": "execute_result"
    }
   ],
   "source": [
    "m=get_regression_coeff(tot_df, 'Hour', 'Avg_Speed')\n",
    "m"
   ]
  },
  {
   "cell_type": "code",
   "execution_count": 192,
   "id": "0a12e803",
   "metadata": {},
   "outputs": [
    {
     "data": {
      "text/plain": [
       "-3.1742"
      ]
     },
     "execution_count": 192,
     "metadata": {},
     "output_type": "execute_result"
    }
   ],
   "source": [
    "var=(data['hour']*m[0]+m[1])-data['speed_kph_mean']\n",
    "round(var.mean(),4)"
   ]
  },
  {
   "cell_type": "code",
   "execution_count": null,
   "id": "74cdc1f5",
   "metadata": {},
   "outputs": [],
   "source": []
  }
 ],
 "metadata": {
  "kernelspec": {
   "display_name": "Python 3 (ipykernel)",
   "language": "python",
   "name": "python3"
  },
  "language_info": {
   "codemirror_mode": {
    "name": "ipython",
    "version": 3
   },
   "file_extension": ".py",
   "mimetype": "text/x-python",
   "name": "python",
   "nbconvert_exporter": "python",
   "pygments_lexer": "ipython3",
   "version": "3.9.12"
  }
 },
 "nbformat": 4,
 "nbformat_minor": 5
}
